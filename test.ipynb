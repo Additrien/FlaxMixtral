{
 "cells": [
  {
   "cell_type": "code",
   "execution_count": 6,
   "metadata": {},
   "outputs": [
    {
     "name": "stderr",
     "output_type": "stream",
     "text": [
      "MixtralModel is using MixtralSdpaAttention, but `torch.nn.functional.scaled_dot_product_attention` does not support `output_attentions=True`. Falling back to the manual attention implementation, but specifying the manual implementation will be required from Transformers version v5.0.0 onwards. This warning can be removed using the argument `attn_implementation=\"eager\"` when loading the model.\n"
     ]
    }
   ],
   "source": [
    "from transformers import AutoTokenizer, MixtralModel, MixtralConfig\n",
    "config = MixtralConfig.from_pretrained(\"hf-internal-testing/Mixtral-tiny\")\n",
    "config.output_router_logits = True\n",
    "config.output_attentions = True\n",
    "model = MixtralModel.from_pretrained(\"hf-internal-testing/Mixtral-tiny\", config=config)\n",
    "tokenizer = AutoTokenizer.from_pretrained(\"mistralai/Mixtral-8x7B-v0.1\")\n",
    "\n",
    "prompt = \"Hey, are you conscious? Can you talk to me?\"\n",
    "inputs = tokenizer(prompt, return_tensors=\"pt\")\n",
    "\n",
    "x = model(**inputs)"
   ]
  },
  {
   "cell_type": "code",
   "execution_count": 12,
   "metadata": {},
   "outputs": [
    {
     "name": "stdout",
     "output_type": "stream",
     "text": [
      "last_hidden_state\n",
      "past_key_values\n",
      "attentions\n",
      "router_logits\n"
     ]
    }
   ],
   "source": [
    "for i in x:\n",
    "    print(i)"
   ]
  },
  {
   "cell_type": "code",
   "execution_count": 8,
   "metadata": {},
   "outputs": [
    {
     "data": {
      "text/plain": [
       "(tensor([[[[1.0000, 0.0000, 0.0000,  ..., 0.0000, 0.0000, 0.0000],\n",
       "           [0.4987, 0.5013, 0.0000,  ..., 0.0000, 0.0000, 0.0000],\n",
       "           [0.3037, 0.1833, 0.5130,  ..., 0.0000, 0.0000, 0.0000],\n",
       "           ...,\n",
       "           [0.0617, 0.0380, 0.0840,  ..., 0.0823, 0.0000, 0.0000],\n",
       "           [0.0878, 0.1733, 0.0588,  ..., 0.0614, 0.0586, 0.0000],\n",
       "           [0.0648, 0.1383, 0.1151,  ..., 0.0713, 0.0706, 0.0813]],\n",
       " \n",
       "          [[1.0000, 0.0000, 0.0000,  ..., 0.0000, 0.0000, 0.0000],\n",
       "           [0.5045, 0.4955, 0.0000,  ..., 0.0000, 0.0000, 0.0000],\n",
       "           [0.3550, 0.2264, 0.4186,  ..., 0.0000, 0.0000, 0.0000],\n",
       "           ...,\n",
       "           [0.0694, 0.0734, 0.1772,  ..., 0.0526, 0.0000, 0.0000],\n",
       "           [0.0404, 0.0423, 0.1207,  ..., 0.1065, 0.0829, 0.0000],\n",
       "           [0.0542, 0.0540, 0.0561,  ..., 0.0910, 0.0697, 0.0517]],\n",
       " \n",
       "          [[1.0000, 0.0000, 0.0000,  ..., 0.0000, 0.0000, 0.0000],\n",
       "           [0.4108, 0.5892, 0.0000,  ..., 0.0000, 0.0000, 0.0000],\n",
       "           [0.3897, 0.3693, 0.2410,  ..., 0.0000, 0.0000, 0.0000],\n",
       "           ...,\n",
       "           [0.0842, 0.0863, 0.0655,  ..., 0.0493, 0.0000, 0.0000],\n",
       "           [0.1311, 0.1098, 0.0805,  ..., 0.0536, 0.0750, 0.0000],\n",
       "           [0.0685, 0.0871, 0.0444,  ..., 0.0816, 0.0899, 0.0657]],\n",
       " \n",
       "          ...,\n",
       " \n",
       "          [[1.0000, 0.0000, 0.0000,  ..., 0.0000, 0.0000, 0.0000],\n",
       "           [0.6268, 0.3732, 0.0000,  ..., 0.0000, 0.0000, 0.0000],\n",
       "           [0.2610, 0.4100, 0.3290,  ..., 0.0000, 0.0000, 0.0000],\n",
       "           ...,\n",
       "           [0.0604, 0.0585, 0.1050,  ..., 0.1568, 0.0000, 0.0000],\n",
       "           [0.1008, 0.0697, 0.0583,  ..., 0.0610, 0.0957, 0.0000],\n",
       "           [0.1387, 0.0216, 0.1209,  ..., 0.0435, 0.0478, 0.1441]],\n",
       " \n",
       "          [[1.0000, 0.0000, 0.0000,  ..., 0.0000, 0.0000, 0.0000],\n",
       "           [0.5387, 0.4613, 0.0000,  ..., 0.0000, 0.0000, 0.0000],\n",
       "           [0.3698, 0.2172, 0.4130,  ..., 0.0000, 0.0000, 0.0000],\n",
       "           ...,\n",
       "           [0.0600, 0.0928, 0.0555,  ..., 0.1040, 0.0000, 0.0000],\n",
       "           [0.1404, 0.0575, 0.0974,  ..., 0.1068, 0.0769, 0.0000],\n",
       "           [0.0677, 0.1075, 0.0464,  ..., 0.0666, 0.0646, 0.0419]],\n",
       " \n",
       "          [[1.0000, 0.0000, 0.0000,  ..., 0.0000, 0.0000, 0.0000],\n",
       "           [0.2694, 0.7306, 0.0000,  ..., 0.0000, 0.0000, 0.0000],\n",
       "           [0.4449, 0.2669, 0.2881,  ..., 0.0000, 0.0000, 0.0000],\n",
       "           ...,\n",
       "           [0.0780, 0.0742, 0.0862,  ..., 0.0994, 0.0000, 0.0000],\n",
       "           [0.1222, 0.0914, 0.0444,  ..., 0.0736, 0.0742, 0.0000],\n",
       "           [0.0542, 0.0838, 0.0909,  ..., 0.1178, 0.0770, 0.0757]]]],\n",
       "        grad_fn=<SoftmaxBackward0>),\n",
       " tensor([[[[1.0000, 0.0000, 0.0000,  ..., 0.0000, 0.0000, 0.0000],\n",
       "           [0.4338, 0.5662, 0.0000,  ..., 0.0000, 0.0000, 0.0000],\n",
       "           [0.4339, 0.2091, 0.3570,  ..., 0.0000, 0.0000, 0.0000],\n",
       "           ...,\n",
       "           [0.1414, 0.1070, 0.0442,  ..., 0.0663, 0.0000, 0.0000],\n",
       "           [0.0370, 0.0973, 0.0978,  ..., 0.0853, 0.1094, 0.0000],\n",
       "           [0.0913, 0.0934, 0.0743,  ..., 0.0602, 0.0503, 0.0744]],\n",
       " \n",
       "          [[1.0000, 0.0000, 0.0000,  ..., 0.0000, 0.0000, 0.0000],\n",
       "           [0.3765, 0.6235, 0.0000,  ..., 0.0000, 0.0000, 0.0000],\n",
       "           [0.3433, 0.2818, 0.3749,  ..., 0.0000, 0.0000, 0.0000],\n",
       "           ...,\n",
       "           [0.1206, 0.1147, 0.0709,  ..., 0.0975, 0.0000, 0.0000],\n",
       "           [0.0380, 0.0868, 0.0646,  ..., 0.1569, 0.0521, 0.0000],\n",
       "           [0.0807, 0.0720, 0.0814,  ..., 0.1034, 0.1050, 0.0575]],\n",
       " \n",
       "          [[1.0000, 0.0000, 0.0000,  ..., 0.0000, 0.0000, 0.0000],\n",
       "           [0.6730, 0.3270, 0.0000,  ..., 0.0000, 0.0000, 0.0000],\n",
       "           [0.2690, 0.4700, 0.2610,  ..., 0.0000, 0.0000, 0.0000],\n",
       "           ...,\n",
       "           [0.1490, 0.1240, 0.0669,  ..., 0.0615, 0.0000, 0.0000],\n",
       "           [0.0576, 0.0607, 0.1506,  ..., 0.0705, 0.0989, 0.0000],\n",
       "           [0.0679, 0.0681, 0.0567,  ..., 0.0489, 0.0969, 0.0794]],\n",
       " \n",
       "          ...,\n",
       " \n",
       "          [[1.0000, 0.0000, 0.0000,  ..., 0.0000, 0.0000, 0.0000],\n",
       "           [0.3573, 0.6427, 0.0000,  ..., 0.0000, 0.0000, 0.0000],\n",
       "           [0.4382, 0.2649, 0.2969,  ..., 0.0000, 0.0000, 0.0000],\n",
       "           ...,\n",
       "           [0.1083, 0.0675, 0.0896,  ..., 0.0837, 0.0000, 0.0000],\n",
       "           [0.0833, 0.0852, 0.1074,  ..., 0.0823, 0.0770, 0.0000],\n",
       "           [0.0464, 0.0872, 0.0880,  ..., 0.0590, 0.0540, 0.1480]],\n",
       " \n",
       "          [[1.0000, 0.0000, 0.0000,  ..., 0.0000, 0.0000, 0.0000],\n",
       "           [0.5321, 0.4679, 0.0000,  ..., 0.0000, 0.0000, 0.0000],\n",
       "           [0.2144, 0.4747, 0.3109,  ..., 0.0000, 0.0000, 0.0000],\n",
       "           ...,\n",
       "           [0.0918, 0.0800, 0.1144,  ..., 0.1548, 0.0000, 0.0000],\n",
       "           [0.1037, 0.0735, 0.1064,  ..., 0.0881, 0.0751, 0.0000],\n",
       "           [0.0558, 0.0963, 0.1049,  ..., 0.0803, 0.0689, 0.0671]],\n",
       " \n",
       "          [[1.0000, 0.0000, 0.0000,  ..., 0.0000, 0.0000, 0.0000],\n",
       "           [0.6974, 0.3026, 0.0000,  ..., 0.0000, 0.0000, 0.0000],\n",
       "           [0.3770, 0.3438, 0.2792,  ..., 0.0000, 0.0000, 0.0000],\n",
       "           ...,\n",
       "           [0.1003, 0.0974, 0.1100,  ..., 0.0710, 0.0000, 0.0000],\n",
       "           [0.0947, 0.1052, 0.1103,  ..., 0.0903, 0.0689, 0.0000],\n",
       "           [0.0387, 0.0879, 0.0548,  ..., 0.0478, 0.0678, 0.1201]]]],\n",
       "        grad_fn=<SoftmaxBackward0>))"
      ]
     },
     "execution_count": 8,
     "metadata": {},
     "output_type": "execute_result"
    }
   ],
   "source": [
    "x.attentions"
   ]
  },
  {
   "cell_type": "code",
   "execution_count": 1,
   "metadata": {},
   "outputs": [
    {
     "name": "stderr",
     "output_type": "stream",
     "text": [
      "/home/adrien/Documents/flax/FlaxMixtral/.env/lib/python3.8/site-packages/tqdm/auto.py:21: TqdmWarning: IProgress not found. Please update jupyter and ipywidgets. See https://ipywidgets.readthedocs.io/en/stable/user_install.html\n",
      "  from .autonotebook import tqdm as notebook_tqdm\n",
      "No GPU/TPU found, falling back to CPU. (Set TF_CPP_MIN_LOG_LEVEL=0 and rerun for more info.)\n",
      "Some weights of the model checkpoint at hf-internal-testing/Mixtral-tiny were not used when initializing FlaxMixtralModel: {('lm_head', 'kernel')}\n",
      "- This IS expected if you are initializing FlaxMixtralModel from the checkpoint of a model trained on another task or with another architecture (e.g. initializing a BertForSequenceClassification model from a BertForPreTraining model).\n",
      "- This IS NOT expected if you are initializing FlaxMixtralModel from the checkpoint of a model that you expect to be exactly identical (initializing a BertForSequenceClassification model from a BertForSequenceClassification model).\n",
      "Some of the weights of FlaxMixtralModel were initialized in float16 precision from the model checkpoint at hf-internal-testing/Mixtral-tiny:\n",
      "[('embed_tokens', 'embedding'), ('layers', '0', 'block_sparse_moe', 'experts', '0', 'w1', 'kernel'), ('layers', '0', 'block_sparse_moe', 'experts', '0', 'w2', 'kernel'), ('layers', '0', 'block_sparse_moe', 'experts', '0', 'w3', 'kernel'), ('layers', '0', 'block_sparse_moe', 'experts', '1', 'w1', 'kernel'), ('layers', '0', 'block_sparse_moe', 'experts', '1', 'w2', 'kernel'), ('layers', '0', 'block_sparse_moe', 'experts', '1', 'w3', 'kernel'), ('layers', '0', 'block_sparse_moe', 'experts', '2', 'w1', 'kernel'), ('layers', '0', 'block_sparse_moe', 'experts', '2', 'w2', 'kernel'), ('layers', '0', 'block_sparse_moe', 'experts', '2', 'w3', 'kernel'), ('layers', '0', 'block_sparse_moe', 'experts', '3', 'w1', 'kernel'), ('layers', '0', 'block_sparse_moe', 'experts', '3', 'w2', 'kernel'), ('layers', '0', 'block_sparse_moe', 'experts', '3', 'w3', 'kernel'), ('layers', '0', 'block_sparse_moe', 'experts', '4', 'w1', 'kernel'), ('layers', '0', 'block_sparse_moe', 'experts', '4', 'w2', 'kernel'), ('layers', '0', 'block_sparse_moe', 'experts', '4', 'w3', 'kernel'), ('layers', '0', 'block_sparse_moe', 'experts', '5', 'w1', 'kernel'), ('layers', '0', 'block_sparse_moe', 'experts', '5', 'w2', 'kernel'), ('layers', '0', 'block_sparse_moe', 'experts', '5', 'w3', 'kernel'), ('layers', '0', 'block_sparse_moe', 'experts', '6', 'w1', 'kernel'), ('layers', '0', 'block_sparse_moe', 'experts', '6', 'w2', 'kernel'), ('layers', '0', 'block_sparse_moe', 'experts', '6', 'w3', 'kernel'), ('layers', '0', 'block_sparse_moe', 'experts', '7', 'w1', 'kernel'), ('layers', '0', 'block_sparse_moe', 'experts', '7', 'w2', 'kernel'), ('layers', '0', 'block_sparse_moe', 'experts', '7', 'w3', 'kernel'), ('layers', '0', 'block_sparse_moe', 'gate', 'kernel'), ('layers', '0', 'input_layernorm', 'weight'), ('layers', '0', 'post_attention_layernorm', 'weight'), ('layers', '0', 'self_attn', 'k_proj', 'kernel'), ('layers', '0', 'self_attn', 'o_proj', 'kernel'), ('layers', '0', 'self_attn', 'q_proj', 'kernel'), ('layers', '0', 'self_attn', 'v_proj', 'kernel'), ('layers', '1', 'block_sparse_moe', 'experts', '0', 'w1', 'kernel'), ('layers', '1', 'block_sparse_moe', 'experts', '0', 'w2', 'kernel'), ('layers', '1', 'block_sparse_moe', 'experts', '0', 'w3', 'kernel'), ('layers', '1', 'block_sparse_moe', 'experts', '1', 'w1', 'kernel'), ('layers', '1', 'block_sparse_moe', 'experts', '1', 'w2', 'kernel'), ('layers', '1', 'block_sparse_moe', 'experts', '1', 'w3', 'kernel'), ('layers', '1', 'block_sparse_moe', 'experts', '2', 'w1', 'kernel'), ('layers', '1', 'block_sparse_moe', 'experts', '2', 'w2', 'kernel'), ('layers', '1', 'block_sparse_moe', 'experts', '2', 'w3', 'kernel'), ('layers', '1', 'block_sparse_moe', 'experts', '3', 'w1', 'kernel'), ('layers', '1', 'block_sparse_moe', 'experts', '3', 'w2', 'kernel'), ('layers', '1', 'block_sparse_moe', 'experts', '3', 'w3', 'kernel'), ('layers', '1', 'block_sparse_moe', 'experts', '4', 'w1', 'kernel'), ('layers', '1', 'block_sparse_moe', 'experts', '4', 'w2', 'kernel'), ('layers', '1', 'block_sparse_moe', 'experts', '4', 'w3', 'kernel'), ('layers', '1', 'block_sparse_moe', 'experts', '5', 'w1', 'kernel'), ('layers', '1', 'block_sparse_moe', 'experts', '5', 'w2', 'kernel'), ('layers', '1', 'block_sparse_moe', 'experts', '5', 'w3', 'kernel'), ('layers', '1', 'block_sparse_moe', 'experts', '6', 'w1', 'kernel'), ('layers', '1', 'block_sparse_moe', 'experts', '6', 'w2', 'kernel'), ('layers', '1', 'block_sparse_moe', 'experts', '6', 'w3', 'kernel'), ('layers', '1', 'block_sparse_moe', 'experts', '7', 'w1', 'kernel'), ('layers', '1', 'block_sparse_moe', 'experts', '7', 'w2', 'kernel'), ('layers', '1', 'block_sparse_moe', 'experts', '7', 'w3', 'kernel'), ('layers', '1', 'block_sparse_moe', 'gate', 'kernel'), ('layers', '1', 'input_layernorm', 'weight'), ('layers', '1', 'post_attention_layernorm', 'weight'), ('layers', '1', 'self_attn', 'k_proj', 'kernel'), ('layers', '1', 'self_attn', 'o_proj', 'kernel'), ('layers', '1', 'self_attn', 'q_proj', 'kernel'), ('layers', '1', 'self_attn', 'v_proj', 'kernel'), ('norm', 'weight')]\n",
      "You should probably UPCAST the model weights to float32 if this was not intended. See [`~FlaxPreTrainedModel.to_fp32`] for further information on how to do this.\n"
     ]
    }
   ],
   "source": [
    "from transformers import AutoTokenizer, FlaxMixtralModel, MixtralConfig\n",
    "\n",
    "config = MixtralConfig.from_pretrained(\"hf-internal-testing/Mixtral-tiny\")\n",
    "config.output_router_logits = True\n",
    "config.output_attentions = True\n",
    "# config.past_key_value = True\n",
    "model = FlaxMixtralModel.from_pretrained(\"hf-internal-testing/Mixtral-tiny\", config=config)\n",
    "tokenizer = AutoTokenizer.from_pretrained(\"mistralai/Mixtral-8x7B-v0.1\")\n",
    "\n",
    "prompt = \"Hey, are you conscious? Can you talk to me?\"\n",
    "inputs = tokenizer(prompt, return_tensors=\"jax\")\n",
    "\n",
    "y = model(**inputs)"
   ]
  },
  {
   "cell_type": "code",
   "execution_count": 2,
   "metadata": {},
   "outputs": [],
   "source": [
    "y.router_logits"
   ]
  },
  {
   "cell_type": "code",
   "execution_count": null,
   "metadata": {},
   "outputs": [],
   "source": [
    "y.last_hidden_state"
   ]
  },
  {
   "cell_type": "code",
   "execution_count": null,
   "metadata": {},
   "outputs": [],
   "source": [
    "for i in y:\n",
    "    print(i)"
   ]
  },
  {
   "cell_type": "code",
   "execution_count": null,
   "metadata": {},
   "outputs": [],
   "source": [
    "from transformers import AutoTokenizer, FlaxMixtralForCausalLM\n",
    "\n",
    "tokenizer = AutoTokenizer.from_pretrained(\"mistralai/Mixtral-8x7B-v0.1\")\n",
    "model = FlaxMixtralForCausalLM.from_pretrained(\"hf-internal-testing/Mixtral-tiny\")\n",
    "\n",
    "inputs = tokenizer(\"Hello, my dog is cute\", return_tensors=\"jax\")\n",
    "outputs = model(**inputs)\n",
    "\n",
    "# retrieve logts for next token\n",
    "# next_token_logits = outputs.logits[:, -1]\n",
    "# next_token_logits"
   ]
  },
  {
   "cell_type": "code",
   "execution_count": null,
   "metadata": {},
   "outputs": [],
   "source": [
    "for i in outputs:\n",
    "    print(i)"
   ]
  },
  {
   "cell_type": "code",
   "execution_count": null,
   "metadata": {},
   "outputs": [],
   "source": []
  }
 ],
 "metadata": {
  "kernelspec": {
   "display_name": ".env",
   "language": "python",
   "name": "python3"
  },
  "language_info": {
   "codemirror_mode": {
    "name": "ipython",
    "version": 3
   },
   "file_extension": ".py",
   "mimetype": "text/x-python",
   "name": "python",
   "nbconvert_exporter": "python",
   "pygments_lexer": "ipython3",
   "version": "3.8.10"
  }
 },
 "nbformat": 4,
 "nbformat_minor": 2
}
