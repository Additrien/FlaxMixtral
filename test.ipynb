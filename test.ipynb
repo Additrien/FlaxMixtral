{
 "cells": [
  {
   "cell_type": "code",
   "execution_count": 1,
   "metadata": {},
   "outputs": [
    {
     "name": "stderr",
     "output_type": "stream",
     "text": [
      "/home/adrien/Documents/flax/FlaxMixtral/.env/lib/python3.8/site-packages/tqdm/auto.py:21: TqdmWarning: IProgress not found. Please update jupyter and ipywidgets. See https://ipywidgets.readthedocs.io/en/stable/user_install.html\n",
      "  from .autonotebook import tqdm as notebook_tqdm\n"
     ]
    }
   ],
   "source": [
    "model_path = \"hf-internal-testing/Mixtral-tiny\"\n",
    "token_path = \"mistralai/Mixtral-8x7B-v0.1\"\n",
    "\n",
    "import numpy as np\n",
    "from transformers import AutoTokenizer, MixtralModel, MixtralConfig, FlaxMixtralModel\n",
    "config = MixtralConfig.from_pretrained(model_path)\n",
    "config.output_router_logits = True\n",
    "config.output_attentions = True\n",
    "config.output_hidden_states = True\n",
    "# config.max_position_embeddings = 4096"
   ]
  },
  {
   "cell_type": "code",
   "execution_count": null,
   "metadata": {},
   "outputs": [],
   "source": [
    "model = MixtralModel.from_pretrained(model_path, config=config)\n",
    "tokenizer = AutoTokenizer.from_pretrained(token_path)\n",
    "\n",
    "prompt = \"Hey, are you conscious? Can you talk to me?\"\n",
    "inputs = tokenizer(prompt, return_tensors=\"pt\")\n",
    "\n",
    "x = model(**inputs)"
   ]
  },
  {
   "cell_type": "code",
   "execution_count": null,
   "metadata": {},
   "outputs": [],
   "source": [
    "x.hidden_states"
   ]
  },
  {
   "cell_type": "code",
   "execution_count": 2,
   "metadata": {},
   "outputs": [
    {
     "name": "stderr",
     "output_type": "stream",
     "text": [
      "No GPU/TPU found, falling back to CPU. (Set TF_CPP_MIN_LOG_LEVEL=0 and rerun for more info.)\n"
     ]
    },
    {
     "ename": "",
     "evalue": "",
     "output_type": "error",
     "traceback": [
      "\u001b[1;31mThe Kernel crashed while executing code in the current cell or a previous cell. \n",
      "\u001b[1;31mPlease review the code in the cell(s) to identify a possible cause of the failure. \n",
      "\u001b[1;31mClick <a href='https://aka.ms/vscodeJupyterKernelCrash'>here</a> for more info. \n",
      "\u001b[1;31mView Jupyter <a href='command:jupyter.viewOutput'>log</a> for further details."
     ]
    }
   ],
   "source": [
    "model = FlaxMixtralModel.from_pretrained(model_path, config=config)\n",
    "tokenizer = AutoTokenizer.from_pretrained(token_path)\n",
    "\n",
    "prompt = \"Hey, are you conscious? Can you talk to me?\"\n",
    "inputs = tokenizer(prompt, return_tensors=\"jax\")\n",
    "\n",
    "y = model(**inputs)"
   ]
  },
  {
   "cell_type": "code",
   "execution_count": null,
   "metadata": {},
   "outputs": [],
   "source": [
    "y.hidden_states"
   ]
  },
  {
   "cell_type": "code",
   "execution_count": null,
   "metadata": {},
   "outputs": [],
   "source": [
    "to_keep = []\n",
    "for i in range(len(x.attentions)):\n",
    "        for j in range(len(x.attentions[i])):\n",
    "                for k in range(len(x.attentions[i][j])):\n",
    "                        for l in range(len(x.attentions[i][j][k])):\n",
    "                                to_keep.append(np.amax(np.abs(np.array(x.attentions[i][j][k][l].detach().cpu()) - np.array(y.attentions[i][j][k][l]))))\n",
    "\n",
    "# for i in range(len(x.last_hidden_state)):\n",
    "#         for j in range(len(x.last_hidden_state[i])):\n",
    "#                                 to_keep.append(np.amax(np.abs(np.array(x.attentions[i][j].detach().cpu()) - np.array(y.attentions[i][j]))))\n",
    "\n",
    "to_keep.append(np.amax(np.abs(np.array(x.attentions[0].detach().cpu()) - np.array(y.attentions[0]))))\n",
    "\n",
    "\n",
    "for i in range(len(x.hidden_states)):\n",
    "        for j in range(len(x.hidden_states[i])):\n",
    "                for k in range(len(x.hidden_states[i][j])):\n",
    "                                to_keep.append(np.amax(np.abs(np.array(x.hidden_states[i][j][k].detach().cpu()) - np.array(y.hidden_states[i][j][k]))))\n"
   ]
  },
  {
   "cell_type": "code",
   "execution_count": null,
   "metadata": {},
   "outputs": [],
   "source": [
    "to_keep = []\n",
    "for i in range(len(x.attentions)):\n",
    "        for j in range(len(x.attentions[i])):\n",
    "                for k in range(len(x.attentions[i][j])):\n",
    "                        for l in range(len(x.attentions[i][j][k])):\n",
    "                                to_keep.append(np.amax(np.abs(np.array(x.attentions[i][j][k][l].detach().cpu()) - np.around(np.array(y.attentions[i][j][k][l]), 4))))\n",
    "\n",
    "# for i in range(len(x.last_hidden_state)):\n",
    "#         for j in range(len(x.last_hidden_state[i])):\n",
    "#                                 to_keep.append(np.amax(np.abs(np.array(x.attentions[i][j].detach().cpu()) - np.array(y.attentions[i][j]))))\n",
    "\n",
    "to_keep.append(np.amax(np.abs(np.array(x.attentions[0].detach().cpu()) - np.around(np.array(y.attentions[0]), 4))))\n",
    "\n",
    "\n",
    "for i in range(len(x.hidden_states)):\n",
    "        for j in range(len(x.hidden_states[i])):\n",
    "                for k in range(len(x.hidden_states[i][j])):\n",
    "                                to_keep.append(np.amax(np.abs(np.array(x.hidden_states[i][j][k].detach().cpu()) - np.around(np.array(y.hidden_states[i][j][k]), 4))))\n"
   ]
  }
 ],
 "metadata": {
  "kernelspec": {
   "display_name": ".env",
   "language": "python",
   "name": "python3"
  },
  "language_info": {
   "codemirror_mode": {
    "name": "ipython",
    "version": 3
   },
   "file_extension": ".py",
   "mimetype": "text/x-python",
   "name": "python",
   "nbconvert_exporter": "python",
   "pygments_lexer": "ipython3",
   "version": "3.8.10"
  }
 },
 "nbformat": 4,
 "nbformat_minor": 2
}
