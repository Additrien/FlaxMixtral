{
 "cells": [
  {
   "cell_type": "code",
   "execution_count": null,
   "metadata": {},
   "outputs": [],
   "source": [
    "# from transformers import AutoTokenizer, MixtralModel\n",
    "\n",
    "# model = MixtralModel.from_pretrained(\"hf-internal-testing/Mixtral-tiny\")\n",
    "# tokenizer = AutoTokenizer.from_pretrained(\"mistralai/Mixtral-8x7B-v0.1\")\n",
    "\n",
    "# prompt = \"Hey, are you conscious? Can you talk to me?\"\n",
    "# inputs = tokenizer(prompt, return_tensors=\"pt\")\n",
    "\n",
    "# x = model(**inputs)"
   ]
  },
  {
   "cell_type": "code",
   "execution_count": null,
   "metadata": {},
   "outputs": [],
   "source": [
    "# x.router_logits"
   ]
  },
  {
   "cell_type": "code",
   "execution_count": null,
   "metadata": {},
   "outputs": [],
   "source": [
    "# from transformers import AutoTokenizer, FlaxMixtralModel\n",
    "\n",
    "# model = FlaxMixtralModel.from_pretrained(\"hf-internal-testing/Mixtral-tiny\")\n",
    "# tokenizer = AutoTokenizer.from_pretrained(\"mistralai/Mixtral-8x7B-v0.1\")\n",
    "\n",
    "# prompt = \"Hey, are you conscious? Can you talk to me?\"\n",
    "# inputs = tokenizer(prompt, return_tensors=\"jax\")\n",
    "\n",
    "# y = model(**inputs)"
   ]
  },
  {
   "cell_type": "code",
   "execution_count": null,
   "metadata": {},
   "outputs": [],
   "source": [
    "# y.router_logits"
   ]
  },
  {
   "cell_type": "code",
   "execution_count": 9,
   "metadata": {},
   "outputs": [
    {
     "name": "stdout",
     "output_type": "stream",
     "text": [
      "CausalLM: 1111 None\n"
     ]
    },
    {
     "data": {
      "text/plain": [
       "tensor([[-0.1724, -0.6242,  0.6575,  ...,  0.3414,  0.0586, -0.0912]],\n",
       "       grad_fn=<SelectBackward0>)"
      ]
     },
     "execution_count": 9,
     "metadata": {},
     "output_type": "execute_result"
    }
   ],
   "source": [
    "from transformers import AutoTokenizer, MixtralForCausalLM\n",
    "\n",
    "model = MixtralForCausalLM.from_pretrained(\"hf-internal-testing/Mixtral-tiny\")\n",
    "tokenizer = AutoTokenizer.from_pretrained(\"mistralai/Mixtral-8x7B-v0.1\")\n",
    "\n",
    "inputs = tokenizer(\"Hello, my dog is cute\", return_tensors=\"pt\")\n",
    "outputs = model(**inputs)\n",
    "\n",
    "# retrieve logts for next token\n",
    "next_token_logits = outputs.logits[:, -1]\n",
    "next_token_logits"
   ]
  },
  {
   "cell_type": "code",
   "execution_count": 10,
   "metadata": {},
   "outputs": [
    {
     "name": "stderr",
     "output_type": "stream",
     "text": [
      "Some of the weights of FlaxMixtralForCausalLM were initialized in float16 precision from the model checkpoint at hf-internal-testing/Mixtral-tiny:\n",
      "[('lm_head', 'kernel'), ('model', 'embed_tokens', 'embedding'), ('model', 'layers', '0', 'block_sparse_moe', 'experts', '0', 'w1', 'kernel'), ('model', 'layers', '0', 'block_sparse_moe', 'experts', '0', 'w2', 'kernel'), ('model', 'layers', '0', 'block_sparse_moe', 'experts', '0', 'w3', 'kernel'), ('model', 'layers', '0', 'block_sparse_moe', 'experts', '1', 'w1', 'kernel'), ('model', 'layers', '0', 'block_sparse_moe', 'experts', '1', 'w2', 'kernel'), ('model', 'layers', '0', 'block_sparse_moe', 'experts', '1', 'w3', 'kernel'), ('model', 'layers', '0', 'block_sparse_moe', 'experts', '2', 'w1', 'kernel'), ('model', 'layers', '0', 'block_sparse_moe', 'experts', '2', 'w2', 'kernel'), ('model', 'layers', '0', 'block_sparse_moe', 'experts', '2', 'w3', 'kernel'), ('model', 'layers', '0', 'block_sparse_moe', 'experts', '3', 'w1', 'kernel'), ('model', 'layers', '0', 'block_sparse_moe', 'experts', '3', 'w2', 'kernel'), ('model', 'layers', '0', 'block_sparse_moe', 'experts', '3', 'w3', 'kernel'), ('model', 'layers', '0', 'block_sparse_moe', 'experts', '4', 'w1', 'kernel'), ('model', 'layers', '0', 'block_sparse_moe', 'experts', '4', 'w2', 'kernel'), ('model', 'layers', '0', 'block_sparse_moe', 'experts', '4', 'w3', 'kernel'), ('model', 'layers', '0', 'block_sparse_moe', 'experts', '5', 'w1', 'kernel'), ('model', 'layers', '0', 'block_sparse_moe', 'experts', '5', 'w2', 'kernel'), ('model', 'layers', '0', 'block_sparse_moe', 'experts', '5', 'w3', 'kernel'), ('model', 'layers', '0', 'block_sparse_moe', 'experts', '6', 'w1', 'kernel'), ('model', 'layers', '0', 'block_sparse_moe', 'experts', '6', 'w2', 'kernel'), ('model', 'layers', '0', 'block_sparse_moe', 'experts', '6', 'w3', 'kernel'), ('model', 'layers', '0', 'block_sparse_moe', 'experts', '7', 'w1', 'kernel'), ('model', 'layers', '0', 'block_sparse_moe', 'experts', '7', 'w2', 'kernel'), ('model', 'layers', '0', 'block_sparse_moe', 'experts', '7', 'w3', 'kernel'), ('model', 'layers', '0', 'block_sparse_moe', 'gate', 'kernel'), ('model', 'layers', '0', 'input_layernorm', 'weight'), ('model', 'layers', '0', 'post_attention_layernorm', 'weight'), ('model', 'layers', '0', 'self_attn', 'k_proj', 'kernel'), ('model', 'layers', '0', 'self_attn', 'o_proj', 'kernel'), ('model', 'layers', '0', 'self_attn', 'q_proj', 'kernel'), ('model', 'layers', '0', 'self_attn', 'v_proj', 'kernel'), ('model', 'layers', '1', 'block_sparse_moe', 'experts', '0', 'w1', 'kernel'), ('model', 'layers', '1', 'block_sparse_moe', 'experts', '0', 'w2', 'kernel'), ('model', 'layers', '1', 'block_sparse_moe', 'experts', '0', 'w3', 'kernel'), ('model', 'layers', '1', 'block_sparse_moe', 'experts', '1', 'w1', 'kernel'), ('model', 'layers', '1', 'block_sparse_moe', 'experts', '1', 'w2', 'kernel'), ('model', 'layers', '1', 'block_sparse_moe', 'experts', '1', 'w3', 'kernel'), ('model', 'layers', '1', 'block_sparse_moe', 'experts', '2', 'w1', 'kernel'), ('model', 'layers', '1', 'block_sparse_moe', 'experts', '2', 'w2', 'kernel'), ('model', 'layers', '1', 'block_sparse_moe', 'experts', '2', 'w3', 'kernel'), ('model', 'layers', '1', 'block_sparse_moe', 'experts', '3', 'w1', 'kernel'), ('model', 'layers', '1', 'block_sparse_moe', 'experts', '3', 'w2', 'kernel'), ('model', 'layers', '1', 'block_sparse_moe', 'experts', '3', 'w3', 'kernel'), ('model', 'layers', '1', 'block_sparse_moe', 'experts', '4', 'w1', 'kernel'), ('model', 'layers', '1', 'block_sparse_moe', 'experts', '4', 'w2', 'kernel'), ('model', 'layers', '1', 'block_sparse_moe', 'experts', '4', 'w3', 'kernel'), ('model', 'layers', '1', 'block_sparse_moe', 'experts', '5', 'w1', 'kernel'), ('model', 'layers', '1', 'block_sparse_moe', 'experts', '5', 'w2', 'kernel'), ('model', 'layers', '1', 'block_sparse_moe', 'experts', '5', 'w3', 'kernel'), ('model', 'layers', '1', 'block_sparse_moe', 'experts', '6', 'w1', 'kernel'), ('model', 'layers', '1', 'block_sparse_moe', 'experts', '6', 'w2', 'kernel'), ('model', 'layers', '1', 'block_sparse_moe', 'experts', '6', 'w3', 'kernel'), ('model', 'layers', '1', 'block_sparse_moe', 'experts', '7', 'w1', 'kernel'), ('model', 'layers', '1', 'block_sparse_moe', 'experts', '7', 'w2', 'kernel'), ('model', 'layers', '1', 'block_sparse_moe', 'experts', '7', 'w3', 'kernel'), ('model', 'layers', '1', 'block_sparse_moe', 'gate', 'kernel'), ('model', 'layers', '1', 'input_layernorm', 'weight'), ('model', 'layers', '1', 'post_attention_layernorm', 'weight'), ('model', 'layers', '1', 'self_attn', 'k_proj', 'kernel'), ('model', 'layers', '1', 'self_attn', 'o_proj', 'kernel'), ('model', 'layers', '1', 'self_attn', 'q_proj', 'kernel'), ('model', 'layers', '1', 'self_attn', 'v_proj', 'kernel'), ('model', 'norm', 'weight')]\n",
      "You should probably UPCAST the model weights to float32 if this was not intended. See [`~FlaxPreTrainedModel.to_fp32`] for further information on how to do this.\n"
     ]
    },
    {
     "data": {
      "text/plain": [
       "Array([[-0.17241752, -0.62424296,  0.65749   , ...,  0.34138244,\n",
       "         0.0585945 , -0.09121527]], dtype=float32)"
      ]
     },
     "execution_count": 10,
     "metadata": {},
     "output_type": "execute_result"
    }
   ],
   "source": [
    "from transformers import AutoTokenizer, FlaxMixtralForCausalLM\n",
    "\n",
    "tokenizer = AutoTokenizer.from_pretrained(\"mistralai/Mixtral-8x7B-v0.1\")\n",
    "model = FlaxMixtralForCausalLM.from_pretrained(\"hf-internal-testing/Mixtral-tiny\")\n",
    "\n",
    "inputs = tokenizer(\"Hello, my dog is cute\", return_tensors=\"np\")\n",
    "outputs = model(**inputs)\n",
    "\n",
    "# retrieve logts for next token\n",
    "next_token_logits = outputs.logits[:, -1]\n",
    "next_token_logits"
   ]
  },
  {
   "cell_type": "code",
   "execution_count": null,
   "metadata": {},
   "outputs": [],
   "source": []
  }
 ],
 "metadata": {
  "kernelspec": {
   "display_name": ".env",
   "language": "python",
   "name": "python3"
  },
  "language_info": {
   "codemirror_mode": {
    "name": "ipython",
    "version": 3
   },
   "file_extension": ".py",
   "mimetype": "text/x-python",
   "name": "python",
   "nbconvert_exporter": "python",
   "pygments_lexer": "ipython3",
   "version": "3.8.10"
  }
 },
 "nbformat": 4,
 "nbformat_minor": 2
}
