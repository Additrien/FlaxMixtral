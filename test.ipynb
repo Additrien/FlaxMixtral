{
 "cells": [
  {
   "cell_type": "code",
   "execution_count": null,
   "metadata": {},
   "outputs": [],
   "source": [
    "# from transformers import AutoTokenizer, MixtralModel\n",
    "\n",
    "# model = MixtralModel.from_pretrained(\"hf-internal-testing/Mixtral-tiny\")\n",
    "# tokenizer = AutoTokenizer.from_pretrained(\"mistralai/Mixtral-8x7B-v0.1\")\n",
    "\n",
    "# prompt = \"Hey, are you conscious? Can you talk to me?\"\n",
    "# inputs = tokenizer(prompt, return_tensors=\"pt\")\n",
    "\n",
    "# x = model(**inputs)"
   ]
  },
  {
   "cell_type": "code",
   "execution_count": null,
   "metadata": {},
   "outputs": [],
   "source": [
    "# x.router_logits"
   ]
  },
  {
   "cell_type": "code",
   "execution_count": null,
   "metadata": {},
   "outputs": [],
   "source": [
    "# from transformers import AutoTokenizer, FlaxMixtralModel\n",
    "\n",
    "# model = FlaxMixtralModel.from_pretrained(\"hf-internal-testing/Mixtral-tiny\")\n",
    "# tokenizer = AutoTokenizer.from_pretrained(\"mistralai/Mixtral-8x7B-v0.1\")\n",
    "\n",
    "# prompt = \"Hey, are you conscious? Can you talk to me?\"\n",
    "# inputs = tokenizer(prompt, return_tensors=\"jax\")\n",
    "\n",
    "# y = model(**inputs)"
   ]
  },
  {
   "cell_type": "code",
   "execution_count": null,
   "metadata": {},
   "outputs": [],
   "source": [
    "# y.router_logits"
   ]
  },
  {
   "cell_type": "code",
   "execution_count": null,
   "metadata": {},
   "outputs": [],
   "source": [
    "from transformers import AutoTokenizer, MixtralForCausalLM, MixtralConfig\n",
    "\n",
    "# config = MixtralConfig.from_pretrained(\"hf-internal-testing/Mixtral-tiny\")\n",
    "# config.output_router_logits = True\n",
    "\n",
    "model = MixtralForCausalLM.from_pretrained(\"hf-internal-testing/Mixtral-tiny\")\n",
    "tokenizer = AutoTokenizer.from_pretrained(\"mistralai/Mixtral-8x7B-v0.1\")\n",
    "print(model.config.output_router_logits)\n",
    "prompt = \"Hey, are you conscious? Can you talk to me?\"\n",
    "inputs = tokenizer(prompt, return_tensors=\"pt\")\n",
    "\n",
    "# Generate\n",
    "generate_ids = model.generate(inputs.input_ids, max_length=30)\n",
    "tokenizer.batch_decode(generate_ids, skip_special_tokens=True, clean_up_tokenization_spaces=False)[0]"
   ]
  },
  {
   "cell_type": "code",
   "execution_count": 1,
   "metadata": {},
   "outputs": [
    {
     "name": "stderr",
     "output_type": "stream",
     "text": [
      "/home/adrien/Documents/flax/FlaxMixtral/.env/lib/python3.8/site-packages/tqdm/auto.py:21: TqdmWarning: IProgress not found. Please update jupyter and ipywidgets. See https://ipywidgets.readthedocs.io/en/stable/user_install.html\n",
      "  from .autonotebook import tqdm as notebook_tqdm\n",
      "No GPU/TPU found, falling back to CPU. (Set TF_CPP_MIN_LOG_LEVEL=0 and rerun for more info.)\n",
      "Some of the weights of FlaxMixtralForCausalLM were initialized in float16 precision from the model checkpoint at hf-internal-testing/Mixtral-tiny:\n",
      "[('lm_head', 'kernel'), ('model', 'embed_tokens', 'embedding'), ('model', 'layers', '0', 'block_sparse_moe', 'experts', '0', 'w1', 'kernel'), ('model', 'layers', '0', 'block_sparse_moe', 'experts', '0', 'w2', 'kernel'), ('model', 'layers', '0', 'block_sparse_moe', 'experts', '0', 'w3', 'kernel'), ('model', 'layers', '0', 'block_sparse_moe', 'experts', '1', 'w1', 'kernel'), ('model', 'layers', '0', 'block_sparse_moe', 'experts', '1', 'w2', 'kernel'), ('model', 'layers', '0', 'block_sparse_moe', 'experts', '1', 'w3', 'kernel'), ('model', 'layers', '0', 'block_sparse_moe', 'experts', '2', 'w1', 'kernel'), ('model', 'layers', '0', 'block_sparse_moe', 'experts', '2', 'w2', 'kernel'), ('model', 'layers', '0', 'block_sparse_moe', 'experts', '2', 'w3', 'kernel'), ('model', 'layers', '0', 'block_sparse_moe', 'experts', '3', 'w1', 'kernel'), ('model', 'layers', '0', 'block_sparse_moe', 'experts', '3', 'w2', 'kernel'), ('model', 'layers', '0', 'block_sparse_moe', 'experts', '3', 'w3', 'kernel'), ('model', 'layers', '0', 'block_sparse_moe', 'experts', '4', 'w1', 'kernel'), ('model', 'layers', '0', 'block_sparse_moe', 'experts', '4', 'w2', 'kernel'), ('model', 'layers', '0', 'block_sparse_moe', 'experts', '4', 'w3', 'kernel'), ('model', 'layers', '0', 'block_sparse_moe', 'experts', '5', 'w1', 'kernel'), ('model', 'layers', '0', 'block_sparse_moe', 'experts', '5', 'w2', 'kernel'), ('model', 'layers', '0', 'block_sparse_moe', 'experts', '5', 'w3', 'kernel'), ('model', 'layers', '0', 'block_sparse_moe', 'experts', '6', 'w1', 'kernel'), ('model', 'layers', '0', 'block_sparse_moe', 'experts', '6', 'w2', 'kernel'), ('model', 'layers', '0', 'block_sparse_moe', 'experts', '6', 'w3', 'kernel'), ('model', 'layers', '0', 'block_sparse_moe', 'experts', '7', 'w1', 'kernel'), ('model', 'layers', '0', 'block_sparse_moe', 'experts', '7', 'w2', 'kernel'), ('model', 'layers', '0', 'block_sparse_moe', 'experts', '7', 'w3', 'kernel'), ('model', 'layers', '0', 'block_sparse_moe', 'gate', 'kernel'), ('model', 'layers', '0', 'input_layernorm', 'weight'), ('model', 'layers', '0', 'post_attention_layernorm', 'weight'), ('model', 'layers', '0', 'self_attn', 'k_proj', 'kernel'), ('model', 'layers', '0', 'self_attn', 'o_proj', 'kernel'), ('model', 'layers', '0', 'self_attn', 'q_proj', 'kernel'), ('model', 'layers', '0', 'self_attn', 'v_proj', 'kernel'), ('model', 'layers', '1', 'block_sparse_moe', 'experts', '0', 'w1', 'kernel'), ('model', 'layers', '1', 'block_sparse_moe', 'experts', '0', 'w2', 'kernel'), ('model', 'layers', '1', 'block_sparse_moe', 'experts', '0', 'w3', 'kernel'), ('model', 'layers', '1', 'block_sparse_moe', 'experts', '1', 'w1', 'kernel'), ('model', 'layers', '1', 'block_sparse_moe', 'experts', '1', 'w2', 'kernel'), ('model', 'layers', '1', 'block_sparse_moe', 'experts', '1', 'w3', 'kernel'), ('model', 'layers', '1', 'block_sparse_moe', 'experts', '2', 'w1', 'kernel'), ('model', 'layers', '1', 'block_sparse_moe', 'experts', '2', 'w2', 'kernel'), ('model', 'layers', '1', 'block_sparse_moe', 'experts', '2', 'w3', 'kernel'), ('model', 'layers', '1', 'block_sparse_moe', 'experts', '3', 'w1', 'kernel'), ('model', 'layers', '1', 'block_sparse_moe', 'experts', '3', 'w2', 'kernel'), ('model', 'layers', '1', 'block_sparse_moe', 'experts', '3', 'w3', 'kernel'), ('model', 'layers', '1', 'block_sparse_moe', 'experts', '4', 'w1', 'kernel'), ('model', 'layers', '1', 'block_sparse_moe', 'experts', '4', 'w2', 'kernel'), ('model', 'layers', '1', 'block_sparse_moe', 'experts', '4', 'w3', 'kernel'), ('model', 'layers', '1', 'block_sparse_moe', 'experts', '5', 'w1', 'kernel'), ('model', 'layers', '1', 'block_sparse_moe', 'experts', '5', 'w2', 'kernel'), ('model', 'layers', '1', 'block_sparse_moe', 'experts', '5', 'w3', 'kernel'), ('model', 'layers', '1', 'block_sparse_moe', 'experts', '6', 'w1', 'kernel'), ('model', 'layers', '1', 'block_sparse_moe', 'experts', '6', 'w2', 'kernel'), ('model', 'layers', '1', 'block_sparse_moe', 'experts', '6', 'w3', 'kernel'), ('model', 'layers', '1', 'block_sparse_moe', 'experts', '7', 'w1', 'kernel'), ('model', 'layers', '1', 'block_sparse_moe', 'experts', '7', 'w2', 'kernel'), ('model', 'layers', '1', 'block_sparse_moe', 'experts', '7', 'w3', 'kernel'), ('model', 'layers', '1', 'block_sparse_moe', 'gate', 'kernel'), ('model', 'layers', '1', 'input_layernorm', 'weight'), ('model', 'layers', '1', 'post_attention_layernorm', 'weight'), ('model', 'layers', '1', 'self_attn', 'k_proj', 'kernel'), ('model', 'layers', '1', 'self_attn', 'o_proj', 'kernel'), ('model', 'layers', '1', 'self_attn', 'q_proj', 'kernel'), ('model', 'layers', '1', 'self_attn', 'v_proj', 'kernel'), ('model', 'norm', 'weight')]\n",
      "You should probably UPCAST the model weights to float32 if this was not intended. See [`~FlaxPreTrainedModel.to_fp32`] for further information on how to do this.\n"
     ]
    },
    {
     "ename": "AttributeError",
     "evalue": "'NoneType' object has no attribute 'logits'",
     "output_type": "error",
     "traceback": [
      "\u001b[0;31m---------------------------------------------------------------------------\u001b[0m",
      "\u001b[0;31mAttributeError\u001b[0m                            Traceback (most recent call last)",
      "Cell \u001b[0;32mIn[1], line 10\u001b[0m\n\u001b[1;32m      7\u001b[0m outputs \u001b[38;5;241m=\u001b[39m model(\u001b[38;5;241m*\u001b[39m\u001b[38;5;241m*\u001b[39minputs)\n\u001b[1;32m      9\u001b[0m \u001b[38;5;66;03m# retrieve logts for next token\u001b[39;00m\n\u001b[0;32m---> 10\u001b[0m next_token_logits \u001b[38;5;241m=\u001b[39m \u001b[43moutputs\u001b[49m\u001b[38;5;241;43m.\u001b[39;49m\u001b[43mlogits\u001b[49m[:, \u001b[38;5;241m-\u001b[39m\u001b[38;5;241m1\u001b[39m]\n",
      "\u001b[0;31mAttributeError\u001b[0m: 'NoneType' object has no attribute 'logits'"
     ]
    }
   ],
   "source": [
    "from transformers import AutoTokenizer, FlaxMixtralForCausalLM\n",
    "\n",
    "tokenizer = AutoTokenizer.from_pretrained(\"mistralai/Mixtral-8x7B-v0.1\")\n",
    "model = FlaxMixtralForCausalLM.from_pretrained(\"hf-internal-testing/Mixtral-tiny\")\n",
    "\n",
    "inputs = tokenizer(\"Hello, my dog is cute\", return_tensors=\"np\")\n",
    "outputs = model(**inputs)\n",
    "\n",
    "# retrieve logts for next token\n",
    "next_token_logits = outputs.logits[:, -1]"
   ]
  },
  {
   "cell_type": "code",
   "execution_count": 2,
   "metadata": {},
   "outputs": [
    {
     "ename": "NameError",
     "evalue": "name 'next_token_logits' is not defined",
     "output_type": "error",
     "traceback": [
      "\u001b[0;31m---------------------------------------------------------------------------\u001b[0m",
      "\u001b[0;31mNameError\u001b[0m                                 Traceback (most recent call last)",
      "Cell \u001b[0;32mIn[2], line 1\u001b[0m\n\u001b[0;32m----> 1\u001b[0m \u001b[43mnext_token_logits\u001b[49m\n",
      "\u001b[0;31mNameError\u001b[0m: name 'next_token_logits' is not defined"
     ]
    }
   ],
   "source": [
    "next_token_logits"
   ]
  },
  {
   "cell_type": "code",
   "execution_count": null,
   "metadata": {},
   "outputs": [],
   "source": []
  }
 ],
 "metadata": {
  "kernelspec": {
   "display_name": ".env",
   "language": "python",
   "name": "python3"
  },
  "language_info": {
   "codemirror_mode": {
    "name": "ipython",
    "version": 3
   },
   "file_extension": ".py",
   "mimetype": "text/x-python",
   "name": "python",
   "nbconvert_exporter": "python",
   "pygments_lexer": "ipython3",
   "version": "3.8.10"
  }
 },
 "nbformat": 4,
 "nbformat_minor": 2
}
